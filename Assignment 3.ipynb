{
  "nbformat": 4,
  "nbformat_minor": 0,
  "metadata": {
    "colab": {
      "provenance": []
    },
    "kernelspec": {
      "name": "python3",
      "display_name": "Python 3"
    },
    "language_info": {
      "name": "python"
    }
  },
  "cells": [
    {
      "cell_type": "code",
      "execution_count": 11,
      "metadata": {
        "id": "Rvm7xEJx7xRY"
      },
      "outputs": [],
      "source": [
        "# import library\n",
        "\n",
        "import pandas as pd\n",
        "import numpy as np\n",
        "import pandas as pd\n",
        "import math"
      ]
    },
    {
      "cell_type": "code",
      "source": [
        "data = [\n",
        "    [30, 'high', 'no', 'fair', 'no'],\n",
        "    [30, 'high', 'no', 'excellent', 'no'],\n",
        "    [31, 'medium', 'no', 'fair', 'yes'],\n",
        "    [40, 'low', 'no', 'fair', 'yes'],\n",
        "    [40, 'low', 'yes', 'fair', 'yes'],\n",
        "    [40, 'low', 'yes', 'excellent', 'no'],\n",
        "    [31, 'medium', 'yes', 'excellent', 'yes'],\n",
        "    [30, 'high', 'no', 'fair', 'no'],\n",
        "    [30, 'medium', 'yes', 'fair', 'yes'],\n",
        "    [31, 'medium', 'yes', 'excellent', 'yes'],\n",
        "    [31, 'high', 'no', 'excellent', 'yes'],\n",
        "    [40, 'medium', 'no', 'fair', 'yes'],\n",
        "    [40, 'high', 'yes', 'fair', 'yes'],\n",
        "    [31, 'medium', 'no', 'excellent', 'no']\n",
        "]"
      ],
      "metadata": {
        "id": "oethDydw7zmk"
      },
      "execution_count": 2,
      "outputs": []
    },
    {
      "cell_type": "code",
      "source": [
        "df = pd.DataFrame(data, columns=['age', 'income', 'student', 'credit_rating', 'buys_computer'])\n",
        "X = df.drop(columns=['buys_computer'])\n",
        "y = df['buys_computer']\n",
        ""
      ],
      "metadata": {
        "id": "SSH5H5Mt73hE"
      },
      "execution_count": 3,
      "outputs": []
    },
    {
      "cell_type": "code",
      "source": [
        "class DecisionTreeNode:\n",
        "    def __init__(self, feature=None, value=None, left=None, right=None, target_class=None):\n",
        "        self.feature = feature\n",
        "        self.value = value\n",
        "        self.left = left\n",
        "        self.right = right\n",
        "        self.target_class = target_class\n",
        "\n",
        "\n",
        ""
      ],
      "metadata": {
        "id": "qBf02mYX76HQ"
      },
      "execution_count": 4,
      "outputs": []
    },
    {
      "cell_type": "code",
      "source": [
        "def calculate_entropy(y):\n",
        "    class_counts = y.value_counts()\n",
        "    entropy = 0\n",
        "    for count in class_counts:\n",
        "        probability = count / len(y)\n",
        "        entropy -= probability * math.log2(probability)\n",
        "    return entropy\n",
        ""
      ],
      "metadata": {
        "id": "UYlT3hNM78Ku"
      },
      "execution_count": 5,
      "outputs": []
    },
    {
      "cell_type": "code",
      "source": [
        "def calculate_information_gain(X, y, feature, split_value):\n",
        "\n",
        "    total_entropy = calculate_entropy(y)\n",
        "    left_indices = X[feature] <= split_value\n",
        "    right_indices = X[feature] > split_value\n",
        "    left_entropy = calculate_entropy(y[left_indices])\n",
        "    right_entropy = calculate_entropy(y[right_indices])\n",
        "\n",
        "    left_weight = sum(left_indices) / len(y)\n",
        "    right_weight = sum(right_indices) / len(y)\n",
        "    information_gain = total_entropy - (left_weight * left_entropy + right_weight * right_entropy)\n",
        "\n",
        "    return information_gain"
      ],
      "metadata": {
        "id": "LPX4ANfp7-hN"
      },
      "execution_count": 6,
      "outputs": []
    },
    {
      "cell_type": "code",
      "source": [
        "def build_decision_tree(X, y):\n",
        "    if len(set(y)) == 1:\n",
        "        return DecisionTreeNode(target_class=y.iloc[0])\n",
        "\n",
        "    if len(X.columns) == 0:  # If there are no features left to split on\n",
        "        return DecisionTreeNode(target_class=y.mode()[0])\n",
        "\n",
        "    best_information_gain = 0\n",
        "    best_feature = None\n",
        "    best_split_value = None\n",
        "\n",
        "    for feature in X.columns:\n",
        "        unique_values = X[feature].unique()\n",
        "        for value in unique_values:\n",
        "            information_gain = calculate_information_gain(X, y, feature, value)\n",
        "            if information_gain > best_information_gain:\n",
        "                best_information_gain = information_gain\n",
        "                best_feature = feature\n",
        "                best_split_value = value\n",
        "\n",
        "    left_indices = X[best_feature] <= best_split_value\n",
        "    right_indices = X[best_feature] > best_split_value\n",
        "    left_subtree = build_decision_tree(X[left_indices], y[left_indices])\n",
        "    right_subtree = build_decision_tree(X[right_indices], y[right_indices])\n",
        "\n",
        "    return DecisionTreeNode(feature=best_feature, value=best_split_value, left=left_subtree, right=right_subtree)"
      ],
      "metadata": {
        "id": "IY55Veue8AnQ"
      },
      "execution_count": 7,
      "outputs": []
    },
    {
      "cell_type": "code",
      "source": [
        "decision_tree = build_decision_tree(X, y)"
      ],
      "metadata": {
        "id": "xkwAOs268CwS"
      },
      "execution_count": 8,
      "outputs": []
    },
    {
      "cell_type": "code",
      "source": [
        "def predict(tree, sample):\n",
        "    if tree.target_class is not None:\n",
        "        return tree.target_class\n",
        "    feature_index = X.columns.get_loc(tree.feature)\n",
        "    if sample[feature_index] <= tree.value:\n",
        "        return predict(tree.left, sample)\n",
        "    else:\n",
        "        return predict(tree.right, sample)"
      ],
      "metadata": {
        "id": "DqMZaFc48FFc"
      },
      "execution_count": 9,
      "outputs": []
    },
    {
      "cell_type": "code",
      "source": [
        "data2 = [\n",
        "    [20, 'low', 'yes', 'excellent'],\n",
        "    [30, 'high', 'no', 'fair'],\n",
        "    [40, 'medium', 'yes', 'fair'],\n",
        "    [50, 'low', 'no', 'fair'],\n",
        "    [25, 'high', 'yes', 'excellent'],\n",
        "    [35, 'medium', 'no', 'fair'],\n",
        "    [45, 'low', 'yes', 'excellent'],\n",
        "    [55, 'high', 'no', 'fair'],\n",
        "     [30, 'high', 'no', 'fair'],\n",
        "    [30, 'high', 'no', 'excellent'],\n",
        "    [31, 'medium', 'no', 'fair'],\n",
        "    [40, 'low', 'no', 'fair'],\n",
        "    [40, 'low', 'yes', 'fair'],\n",
        "    [40, 'low', 'yes', 'excellent'],\n",
        "    [31, 'medium', 'yes', 'excellent'],\n",
        "    [30, 'high', 'no', 'fair'],\n",
        "    [30, 'medium', 'yes', 'fair'],\n",
        "    [31, 'medium', 'yes', 'excellent'],\n",
        "    [31, 'high', 'no', 'excellent'],\n",
        "    [40, 'medium', 'no', 'fair'],\n",
        "    [40, 'high', 'yes', 'fair'],\n",
        "    [31, 'medium', 'no', 'excellent']\n",
        "]\n",
        "\n",
        "for sample in data2:\n",
        "    prediction = predict(decision_tree, sample)\n",
        "    print(f\"Sample : {sample}, Predicted : {prediction}\")"
      ],
      "metadata": {
        "colab": {
          "base_uri": "https://localhost:8080/"
        },
        "id": "q4dQgUre8HHo",
        "outputId": "9a312ba4-ae7f-4474-923e-f350663afd39"
      },
      "execution_count": 10,
      "outputs": [
        {
          "output_type": "stream",
          "name": "stdout",
          "text": [
            "Sample : [20, 'low', 'yes', 'excellent'], Predicted : yes\n",
            "Sample : [30, 'high', 'no', 'fair'], Predicted : no\n",
            "Sample : [40, 'medium', 'yes', 'fair'], Predicted : yes\n",
            "Sample : [50, 'low', 'no', 'fair'], Predicted : yes\n",
            "Sample : [25, 'high', 'yes', 'excellent'], Predicted : no\n",
            "Sample : [35, 'medium', 'no', 'fair'], Predicted : yes\n",
            "Sample : [45, 'low', 'yes', 'excellent'], Predicted : no\n",
            "Sample : [55, 'high', 'no', 'fair'], Predicted : yes\n",
            "Sample : [30, 'high', 'no', 'fair'], Predicted : no\n",
            "Sample : [30, 'high', 'no', 'excellent'], Predicted : no\n",
            "Sample : [31, 'medium', 'no', 'fair'], Predicted : yes\n",
            "Sample : [40, 'low', 'no', 'fair'], Predicted : yes\n",
            "Sample : [40, 'low', 'yes', 'fair'], Predicted : yes\n",
            "Sample : [40, 'low', 'yes', 'excellent'], Predicted : no\n",
            "Sample : [31, 'medium', 'yes', 'excellent'], Predicted : yes\n",
            "Sample : [30, 'high', 'no', 'fair'], Predicted : no\n",
            "Sample : [30, 'medium', 'yes', 'fair'], Predicted : yes\n",
            "Sample : [31, 'medium', 'yes', 'excellent'], Predicted : yes\n",
            "Sample : [31, 'high', 'no', 'excellent'], Predicted : yes\n",
            "Sample : [40, 'medium', 'no', 'fair'], Predicted : yes\n",
            "Sample : [40, 'high', 'yes', 'fair'], Predicted : yes\n",
            "Sample : [31, 'medium', 'no', 'excellent'], Predicted : no\n"
          ]
        }
      ]
    },
    {
      "cell_type": "code",
      "source": [],
      "metadata": {
        "id": "Gp4NTKjm8JVb"
      },
      "execution_count": null,
      "outputs": []
    }
  ]
}